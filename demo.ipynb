{
 "cells": [
  {
   "cell_type": "code",
   "execution_count": null,
   "id": "65b4208c",
   "metadata": {},
   "outputs": [],
   "source": [
    "from datetime import datetime, timedelta\n",
    "\n",
    "import ipywidgets as widgets\n",
    "import nest_asyncio\n",
    "\n",
    "from utils import EUROPE_COORDINATES, DemoConfig, plot_responses\n",
    "\n",
    "nest_asyncio.apply()\n",
    "\n",
    "cfg: DemoConfig = DemoConfig.from_environ(\n",
    "    {\n",
    "        \"SNAPEARTH_GRPC_HOST\": \"earthsignature.snapearth.eu\",\n",
    "        \"SNAPEARTH_GRPC_PORT\": 443,\n",
    "        \"SNAPEARTH_GRPC_USE_SSL\": True,\n",
    "        \"SNAPEARTH_GRPC_KEEPALIVE_TIMEOUT_MS\": 60000,\n",
    "        \"SNAPEARTH_GRPC_MAX_RECEIVE_MESSAGE_LENGTH\": 10 ** 20,\n",
    "        \"SNAPEARTH_GRPC_MAX_SEND_MESSAGE_LENGTH\": 10 ** 20,\n",
    "    },\n",
    ")\n",
    "\n",
    "geom = widgets.Text(\n",
    "    value=str(EUROPE_COORDINATES),\n",
    "    placeholder=\"\",\n",
    "    description=\"WKT polygon of the area of interest\",\n",
    "    disabled=False,\n",
    ")\n",
    "\n",
    "start_date = widgets.DatePicker(\n",
    "    value=datetime.now() - timedelta(1),\n",
    "    description=\"Start date\",\n",
    "    disabled=False,\n",
    ")\n",
    "\n",
    "end_date = widgets.DatePicker(\n",
    "    value=datetime.now() - timedelta(1),\n",
    "    description=\"Stop date\",\n",
    "    disabled=False,\n",
    ")\n",
    "\n",
    "product_ids = widgets.Text(\n",
    "    value=\"\",\n",
    "    placeholder=\"\",\n",
    "    description=\"Product IDs (comma separated)\",\n",
    "    disabled=False,\n",
    ")\n",
    "\n",
    "categories = widgets.Text(\n",
    "    value=\"\",\n",
    "    description=\"Categories (comma separated)\",\n",
    "    disabled=False,\n",
    ")\n",
    "\n",
    "n_results = widgets.IntSlider(\n",
    "    value=cfg.grpc.max_results,\n",
    "    min=1,\n",
    "    max=20,\n",
    "    step=1,\n",
    "    description=\"Max results\",\n",
    "    disabled=False,\n",
    ")"
   ]
  },
  {
   "cell_type": "code",
   "execution_count": null,
   "id": "6b6fae18",
   "metadata": {
    "lines_to_next_cell": 0
   },
   "outputs": [],
   "source": [
    "widgets.VBox([geom, start_date, end_date, product_ids, categories, n_results])"
   ]
  },
  {
   "cell_type": "code",
   "execution_count": null,
   "id": "f6eb108c",
   "metadata": {},
   "outputs": [],
   "source": [
    "df, map_ = plot_responses(\n",
    "    cfg.grpc.host,\n",
    "    cfg.grpc.port,\n",
    "    cfg.grpc.use_ssl,\n",
    "    geom,\n",
    "    start_date,\n",
    "    end_date,\n",
    "    product_ids,\n",
    "    categories,\n",
    "    n_results,\n",
    ")\n",
    "map_"
   ]
  }
 ],
 "metadata": {
  "jupytext": {
   "cell_metadata_filter": "-all",
   "formats": "ipynb,py:percent",
   "main_language": "python"
  }
 },
 "nbformat": 4,
 "nbformat_minor": 5
}
